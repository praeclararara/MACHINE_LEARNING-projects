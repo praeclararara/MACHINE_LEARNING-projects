{
 "cells": [
  {
   "cell_type": "markdown",
   "id": "ef207f68",
   "metadata": {},
   "source": [
    "#### Hotel Booking Demand dataset from the Kaggle.\n",
    "You can download it from here:\n",
    "https://www.kaggle.com/jessemostipak/hotel-booking-demand"
   ]
  },
  {
   "cell_type": "markdown",
   "id": "42bb91a6",
   "metadata": {},
   "source": [
    "#### We will try to answer the following questions\n",
    "How Many Booking Were Cancelled?\n",
    "\n",
    "What is the booking ratio between Resort Hotel and City Hotel?\n",
    "\n",
    "What is the percentage of booking for each year?\n",
    "\n",
    "Which is the busiest month for hotels?\n",
    "\n",
    "From which country most guests come?\n",
    "\n",
    "How Long People Stay in the hotel?\n",
    "\n",
    "Which was the most booked accommodation type (Single, Couple, Family)?"
   ]
  },
  {
   "cell_type": "markdown",
   "id": "09dcd60e",
   "metadata": {},
   "source": [
    "#### We will build a predictive model to predict whether the booking will be canceled or not by:\n",
    "Performing Feature Engineering to make new features\n",
    "\n",
    "Performing Feature Selection to select only relevant features\n",
    "\n",
    "Transforming the Data (Categorial to Numerical)\n",
    "\n",
    "Splitting the data (Train Test Split)\n",
    "\n",
    "Modeling the data (Fit the Data)\n",
    "\n",
    "And finally, Evaluating our model"
   ]
  },
  {
   "cell_type": "code",
   "execution_count": 1,
   "id": "41179e4b",
   "metadata": {},
   "outputs": [],
   "source": [
    "import numpy as np\n",
    "import pandas as pd\n",
    "import matplotlib.pyplot as plt\n",
    "import seaborn as sns\n",
    "import matplotlib.ticker as mtick\n",
    "from pandas.core.common import SettingWithCopyWarning\n",
    "from warnings import simplefilter\n",
    "simplefilter(action=\"ignore\", category=SettingWithCopyWarning)\n",
    "\n",
    "pd.options.display.max_columns = None"
   ]
  },
  {
   "cell_type": "code",
   "execution_count": 2,
   "id": "736b9674",
   "metadata": {},
   "outputs": [
    {
     "data": {
      "text/html": [
       "<div>\n",
       "<style scoped>\n",
       "    .dataframe tbody tr th:only-of-type {\n",
       "        vertical-align: middle;\n",
       "    }\n",
       "\n",
       "    .dataframe tbody tr th {\n",
       "        vertical-align: top;\n",
       "    }\n",
       "\n",
       "    .dataframe thead th {\n",
       "        text-align: right;\n",
       "    }\n",
       "</style>\n",
       "<table border=\"1\" class=\"dataframe\">\n",
       "  <thead>\n",
       "    <tr style=\"text-align: right;\">\n",
       "      <th></th>\n",
       "      <th>hotel</th>\n",
       "      <th>is_canceled</th>\n",
       "      <th>lead_time</th>\n",
       "      <th>arrival_date_year</th>\n",
       "      <th>arrival_date_month</th>\n",
       "      <th>arrival_date_week_number</th>\n",
       "      <th>arrival_date_day_of_month</th>\n",
       "      <th>stays_in_weekend_nights</th>\n",
       "      <th>stays_in_week_nights</th>\n",
       "      <th>adults</th>\n",
       "      <th>children</th>\n",
       "      <th>babies</th>\n",
       "      <th>meal</th>\n",
       "      <th>country</th>\n",
       "      <th>market_segment</th>\n",
       "      <th>distribution_channel</th>\n",
       "      <th>is_repeated_guest</th>\n",
       "      <th>previous_cancellations</th>\n",
       "      <th>previous_bookings_not_canceled</th>\n",
       "      <th>reserved_room_type</th>\n",
       "      <th>assigned_room_type</th>\n",
       "      <th>booking_changes</th>\n",
       "      <th>deposit_type</th>\n",
       "      <th>agent</th>\n",
       "      <th>company</th>\n",
       "      <th>days_in_waiting_list</th>\n",
       "      <th>customer_type</th>\n",
       "      <th>adr</th>\n",
       "      <th>required_car_parking_spaces</th>\n",
       "      <th>total_of_special_requests</th>\n",
       "      <th>reservation_status</th>\n",
       "      <th>reservation_status_date</th>\n",
       "    </tr>\n",
       "  </thead>\n",
       "  <tbody>\n",
       "    <tr>\n",
       "      <th>0</th>\n",
       "      <td>Resort Hotel</td>\n",
       "      <td>0</td>\n",
       "      <td>342</td>\n",
       "      <td>2015</td>\n",
       "      <td>July</td>\n",
       "      <td>27</td>\n",
       "      <td>1</td>\n",
       "      <td>0</td>\n",
       "      <td>0</td>\n",
       "      <td>2</td>\n",
       "      <td>0.0</td>\n",
       "      <td>0</td>\n",
       "      <td>BB</td>\n",
       "      <td>PRT</td>\n",
       "      <td>Direct</td>\n",
       "      <td>Direct</td>\n",
       "      <td>0</td>\n",
       "      <td>0</td>\n",
       "      <td>0</td>\n",
       "      <td>C</td>\n",
       "      <td>C</td>\n",
       "      <td>3</td>\n",
       "      <td>No Deposit</td>\n",
       "      <td>NaN</td>\n",
       "      <td>NaN</td>\n",
       "      <td>0</td>\n",
       "      <td>Transient</td>\n",
       "      <td>0.0</td>\n",
       "      <td>0</td>\n",
       "      <td>0</td>\n",
       "      <td>Check-Out</td>\n",
       "      <td>2015-07-01</td>\n",
       "    </tr>\n",
       "    <tr>\n",
       "      <th>1</th>\n",
       "      <td>Resort Hotel</td>\n",
       "      <td>0</td>\n",
       "      <td>737</td>\n",
       "      <td>2015</td>\n",
       "      <td>July</td>\n",
       "      <td>27</td>\n",
       "      <td>1</td>\n",
       "      <td>0</td>\n",
       "      <td>0</td>\n",
       "      <td>2</td>\n",
       "      <td>0.0</td>\n",
       "      <td>0</td>\n",
       "      <td>BB</td>\n",
       "      <td>PRT</td>\n",
       "      <td>Direct</td>\n",
       "      <td>Direct</td>\n",
       "      <td>0</td>\n",
       "      <td>0</td>\n",
       "      <td>0</td>\n",
       "      <td>C</td>\n",
       "      <td>C</td>\n",
       "      <td>4</td>\n",
       "      <td>No Deposit</td>\n",
       "      <td>NaN</td>\n",
       "      <td>NaN</td>\n",
       "      <td>0</td>\n",
       "      <td>Transient</td>\n",
       "      <td>0.0</td>\n",
       "      <td>0</td>\n",
       "      <td>0</td>\n",
       "      <td>Check-Out</td>\n",
       "      <td>2015-07-01</td>\n",
       "    </tr>\n",
       "    <tr>\n",
       "      <th>2</th>\n",
       "      <td>Resort Hotel</td>\n",
       "      <td>0</td>\n",
       "      <td>7</td>\n",
       "      <td>2015</td>\n",
       "      <td>July</td>\n",
       "      <td>27</td>\n",
       "      <td>1</td>\n",
       "      <td>0</td>\n",
       "      <td>1</td>\n",
       "      <td>1</td>\n",
       "      <td>0.0</td>\n",
       "      <td>0</td>\n",
       "      <td>BB</td>\n",
       "      <td>GBR</td>\n",
       "      <td>Direct</td>\n",
       "      <td>Direct</td>\n",
       "      <td>0</td>\n",
       "      <td>0</td>\n",
       "      <td>0</td>\n",
       "      <td>A</td>\n",
       "      <td>C</td>\n",
       "      <td>0</td>\n",
       "      <td>No Deposit</td>\n",
       "      <td>NaN</td>\n",
       "      <td>NaN</td>\n",
       "      <td>0</td>\n",
       "      <td>Transient</td>\n",
       "      <td>75.0</td>\n",
       "      <td>0</td>\n",
       "      <td>0</td>\n",
       "      <td>Check-Out</td>\n",
       "      <td>2015-07-02</td>\n",
       "    </tr>\n",
       "    <tr>\n",
       "      <th>3</th>\n",
       "      <td>Resort Hotel</td>\n",
       "      <td>0</td>\n",
       "      <td>13</td>\n",
       "      <td>2015</td>\n",
       "      <td>July</td>\n",
       "      <td>27</td>\n",
       "      <td>1</td>\n",
       "      <td>0</td>\n",
       "      <td>1</td>\n",
       "      <td>1</td>\n",
       "      <td>0.0</td>\n",
       "      <td>0</td>\n",
       "      <td>BB</td>\n",
       "      <td>GBR</td>\n",
       "      <td>Corporate</td>\n",
       "      <td>Corporate</td>\n",
       "      <td>0</td>\n",
       "      <td>0</td>\n",
       "      <td>0</td>\n",
       "      <td>A</td>\n",
       "      <td>A</td>\n",
       "      <td>0</td>\n",
       "      <td>No Deposit</td>\n",
       "      <td>304.0</td>\n",
       "      <td>NaN</td>\n",
       "      <td>0</td>\n",
       "      <td>Transient</td>\n",
       "      <td>75.0</td>\n",
       "      <td>0</td>\n",
       "      <td>0</td>\n",
       "      <td>Check-Out</td>\n",
       "      <td>2015-07-02</td>\n",
       "    </tr>\n",
       "    <tr>\n",
       "      <th>4</th>\n",
       "      <td>Resort Hotel</td>\n",
       "      <td>0</td>\n",
       "      <td>14</td>\n",
       "      <td>2015</td>\n",
       "      <td>July</td>\n",
       "      <td>27</td>\n",
       "      <td>1</td>\n",
       "      <td>0</td>\n",
       "      <td>2</td>\n",
       "      <td>2</td>\n",
       "      <td>0.0</td>\n",
       "      <td>0</td>\n",
       "      <td>BB</td>\n",
       "      <td>GBR</td>\n",
       "      <td>Online TA</td>\n",
       "      <td>TA/TO</td>\n",
       "      <td>0</td>\n",
       "      <td>0</td>\n",
       "      <td>0</td>\n",
       "      <td>A</td>\n",
       "      <td>A</td>\n",
       "      <td>0</td>\n",
       "      <td>No Deposit</td>\n",
       "      <td>240.0</td>\n",
       "      <td>NaN</td>\n",
       "      <td>0</td>\n",
       "      <td>Transient</td>\n",
       "      <td>98.0</td>\n",
       "      <td>0</td>\n",
       "      <td>1</td>\n",
       "      <td>Check-Out</td>\n",
       "      <td>2015-07-03</td>\n",
       "    </tr>\n",
       "  </tbody>\n",
       "</table>\n",
       "</div>"
      ],
      "text/plain": [
       "          hotel  is_canceled  lead_time  arrival_date_year arrival_date_month  \\\n",
       "0  Resort Hotel            0        342               2015               July   \n",
       "1  Resort Hotel            0        737               2015               July   \n",
       "2  Resort Hotel            0          7               2015               July   \n",
       "3  Resort Hotel            0         13               2015               July   \n",
       "4  Resort Hotel            0         14               2015               July   \n",
       "\n",
       "   arrival_date_week_number  arrival_date_day_of_month  \\\n",
       "0                        27                          1   \n",
       "1                        27                          1   \n",
       "2                        27                          1   \n",
       "3                        27                          1   \n",
       "4                        27                          1   \n",
       "\n",
       "   stays_in_weekend_nights  stays_in_week_nights  adults  children  babies  \\\n",
       "0                        0                     0       2       0.0       0   \n",
       "1                        0                     0       2       0.0       0   \n",
       "2                        0                     1       1       0.0       0   \n",
       "3                        0                     1       1       0.0       0   \n",
       "4                        0                     2       2       0.0       0   \n",
       "\n",
       "  meal country market_segment distribution_channel  is_repeated_guest  \\\n",
       "0   BB     PRT         Direct               Direct                  0   \n",
       "1   BB     PRT         Direct               Direct                  0   \n",
       "2   BB     GBR         Direct               Direct                  0   \n",
       "3   BB     GBR      Corporate            Corporate                  0   \n",
       "4   BB     GBR      Online TA                TA/TO                  0   \n",
       "\n",
       "   previous_cancellations  previous_bookings_not_canceled reserved_room_type  \\\n",
       "0                       0                               0                  C   \n",
       "1                       0                               0                  C   \n",
       "2                       0                               0                  A   \n",
       "3                       0                               0                  A   \n",
       "4                       0                               0                  A   \n",
       "\n",
       "  assigned_room_type  booking_changes deposit_type  agent  company  \\\n",
       "0                  C                3   No Deposit    NaN      NaN   \n",
       "1                  C                4   No Deposit    NaN      NaN   \n",
       "2                  C                0   No Deposit    NaN      NaN   \n",
       "3                  A                0   No Deposit  304.0      NaN   \n",
       "4                  A                0   No Deposit  240.0      NaN   \n",
       "\n",
       "   days_in_waiting_list customer_type   adr  required_car_parking_spaces  \\\n",
       "0                     0     Transient   0.0                            0   \n",
       "1                     0     Transient   0.0                            0   \n",
       "2                     0     Transient  75.0                            0   \n",
       "3                     0     Transient  75.0                            0   \n",
       "4                     0     Transient  98.0                            0   \n",
       "\n",
       "   total_of_special_requests reservation_status reservation_status_date  \n",
       "0                          0          Check-Out              2015-07-01  \n",
       "1                          0          Check-Out              2015-07-01  \n",
       "2                          0          Check-Out              2015-07-02  \n",
       "3                          0          Check-Out              2015-07-02  \n",
       "4                          1          Check-Out              2015-07-03  "
      ]
     },
     "execution_count": 2,
     "metadata": {},
     "output_type": "execute_result"
    }
   ],
   "source": [
    "data = pd.read_csv('hotel_bookings.csv')\n",
    "data.head()"
   ]
  },
  {
   "cell_type": "code",
   "execution_count": 3,
   "id": "c6773c58",
   "metadata": {},
   "outputs": [
    {
     "name": "stdout",
     "output_type": "stream",
     "text": [
      "<class 'pandas.core.frame.DataFrame'>\n",
      "RangeIndex: 119390 entries, 0 to 119389\n",
      "Data columns (total 32 columns):\n",
      " #   Column                          Non-Null Count   Dtype  \n",
      "---  ------                          --------------   -----  \n",
      " 0   hotel                           119390 non-null  object \n",
      " 1   is_canceled                     119390 non-null  int64  \n",
      " 2   lead_time                       119390 non-null  int64  \n",
      " 3   arrival_date_year               119390 non-null  int64  \n",
      " 4   arrival_date_month              119390 non-null  object \n",
      " 5   arrival_date_week_number        119390 non-null  int64  \n",
      " 6   arrival_date_day_of_month       119390 non-null  int64  \n",
      " 7   stays_in_weekend_nights         119390 non-null  int64  \n",
      " 8   stays_in_week_nights            119390 non-null  int64  \n",
      " 9   adults                          119390 non-null  int64  \n",
      " 10  children                        119386 non-null  float64\n",
      " 11  babies                          119390 non-null  int64  \n",
      " 12  meal                            119390 non-null  object \n",
      " 13  country                         118902 non-null  object \n",
      " 14  market_segment                  119390 non-null  object \n",
      " 15  distribution_channel            119390 non-null  object \n",
      " 16  is_repeated_guest               119390 non-null  int64  \n",
      " 17  previous_cancellations          119390 non-null  int64  \n",
      " 18  previous_bookings_not_canceled  119390 non-null  int64  \n",
      " 19  reserved_room_type              119390 non-null  object \n",
      " 20  assigned_room_type              119390 non-null  object \n",
      " 21  booking_changes                 119390 non-null  int64  \n",
      " 22  deposit_type                    119390 non-null  object \n",
      " 23  agent                           103050 non-null  float64\n",
      " 24  company                         6797 non-null    float64\n",
      " 25  days_in_waiting_list            119390 non-null  int64  \n",
      " 26  customer_type                   119390 non-null  object \n",
      " 27  adr                             119390 non-null  float64\n",
      " 28  required_car_parking_spaces     119390 non-null  int64  \n",
      " 29  total_of_special_requests       119390 non-null  int64  \n",
      " 30  reservation_status              119390 non-null  object \n",
      " 31  reservation_status_date         119390 non-null  object \n",
      "dtypes: float64(4), int64(16), object(12)\n",
      "memory usage: 29.1+ MB\n"
     ]
    }
   ],
   "source": [
    "data.info()"
   ]
  },
  {
   "cell_type": "code",
   "execution_count": 4,
   "id": "e33411db",
   "metadata": {},
   "outputs": [],
   "source": [
    "## Copy the dataset\n",
    "df = data.copy()"
   ]
  },
  {
   "cell_type": "markdown",
   "id": "fbace26e",
   "metadata": {},
   "source": [
    "### Dealing with Missing Values"
   ]
  },
  {
   "cell_type": "code",
   "execution_count": 5,
   "id": "1dd8d83c",
   "metadata": {},
   "outputs": [
    {
     "data": {
      "text/plain": [
       "company                   112593\n",
       "agent                      16340\n",
       "country                      488\n",
       "children                       4\n",
       "reserved_room_type             0\n",
       "assigned_room_type             0\n",
       "booking_changes                0\n",
       "deposit_type                   0\n",
       "hotel                          0\n",
       "previous_cancellations         0\n",
       "dtype: int64"
      ]
     },
     "execution_count": 5,
     "metadata": {},
     "output_type": "execute_result"
    }
   ],
   "source": [
    "## Find the missing value, show the total null values for each column and sort it in descending order\n",
    "df.isnull().sum().sort_values(ascending=False)[:10]"
   ]
  },
  {
   "cell_type": "markdown",
   "id": "1113bfa4",
   "metadata": {},
   "source": [
    "In the agent and the company column, we have id_number for each agent or company, so for all the missing values, we will just replace it with 0.\n",
    "\n",
    "Children column contains the count of children, so we will replace all the missing values with the rounded mean value.\n",
    "\n",
    "Country column contains country codes representing different countries. It is a categorical feature so we will also replace it with the mode value."
   ]
  },
  {
   "cell_type": "code",
   "execution_count": 6,
   "id": "d800c4d6",
   "metadata": {},
   "outputs": [
    {
     "data": {
      "text/plain": [
       "agent  company\n",
       "False  False      119390\n",
       "dtype: int64"
      ]
     },
     "execution_count": 6,
     "metadata": {},
     "output_type": "execute_result"
    }
   ],
   "source": [
    "## If no id of agent or company is null, just replace it with 0\n",
    "df[['agent','company']] = df[['agent','company']].fillna(0.0)\n",
    "df[['agent','company']].isnull().value_counts()"
   ]
  },
  {
   "cell_type": "code",
   "execution_count": 7,
   "id": "fab09023",
   "metadata": {},
   "outputs": [
    {
     "data": {
      "text/plain": [
       "count    119390.000000\n",
       "mean          0.103886\n",
       "std           0.398555\n",
       "min           0.000000\n",
       "25%           0.000000\n",
       "50%           0.000000\n",
       "75%           0.000000\n",
       "max          10.000000\n",
       "Name: children, dtype: float64"
      ]
     },
     "execution_count": 7,
     "metadata": {},
     "output_type": "execute_result"
    }
   ],
   "source": [
    "## for missing children value, replace it with rounded mean value\n",
    "df.children = df.children.fillna(round(df.children.mean()))\n",
    "df.children.describe()"
   ]
  },
  {
   "cell_type": "code",
   "execution_count": 8,
   "id": "487204f6",
   "metadata": {},
   "outputs": [
    {
     "data": {
      "text/plain": [
       "False    119390\n",
       "Name: country, dtype: int64"
      ]
     },
     "execution_count": 8,
     "metadata": {},
     "output_type": "execute_result"
    }
   ],
   "source": [
    "## For the missing values in the country column, replace it with mode (value that appears most often)\n",
    "df.country = df.country.fillna(df.country.mode().to_string())\n",
    "df.country.isnull().value_counts()"
   ]
  },
  {
   "cell_type": "markdown",
   "id": "f6161a2a",
   "metadata": {},
   "source": [
    "#### Many rows that have zero guests including adults, children and babies"
   ]
  },
  {
   "cell_type": "code",
   "execution_count": 9,
   "id": "894c5fb6",
   "metadata": {},
   "outputs": [
    {
     "data": {
      "text/plain": [
       "(180, 32)"
      ]
     },
     "execution_count": 9,
     "metadata": {},
     "output_type": "execute_result"
    }
   ],
   "source": [
    "df[(df.adults+df.children+df.babies)==0].shape"
   ]
  },
  {
   "cell_type": "markdown",
   "id": "b6e4793a",
   "metadata": {},
   "source": [
    "We have 180 rows with 0 values. We will just remove these rows."
   ]
  },
  {
   "cell_type": "code",
   "execution_count": 10,
   "id": "34b319a3",
   "metadata": {},
   "outputs": [
    {
     "data": {
      "text/plain": [
       "(0, 32)"
      ]
     },
     "execution_count": 10,
     "metadata": {},
     "output_type": "execute_result"
    }
   ],
   "source": [
    "## Drop Rows where adult, baby and child have 0 values\n",
    "df = df.drop(df[(df.adults+df.babies+df.children)==0].index)\n",
    "df[(df.adults+df.children+df.babies)==0].shape"
   ]
  },
  {
   "cell_type": "markdown",
   "id": "87f6e338",
   "metadata": {},
   "source": [
    "### Converting Datatype"
   ]
  },
  {
   "cell_type": "code",
   "execution_count": 11,
   "id": "58bd7cd4",
   "metadata": {},
   "outputs": [
    {
     "data": {
      "text/plain": [
       "hotel                              object\n",
       "is_canceled                         int64\n",
       "lead_time                           int64\n",
       "arrival_date_year                   int64\n",
       "arrival_date_month                 object\n",
       "arrival_date_week_number            int64\n",
       "arrival_date_day_of_month           int64\n",
       "stays_in_weekend_nights             int64\n",
       "stays_in_week_nights                int64\n",
       "adults                              int64\n",
       "children                          float64\n",
       "babies                              int64\n",
       "meal                               object\n",
       "country                            object\n",
       "market_segment                     object\n",
       "distribution_channel               object\n",
       "is_repeated_guest                   int64\n",
       "previous_cancellations              int64\n",
       "previous_bookings_not_canceled      int64\n",
       "reserved_room_type                 object\n",
       "assigned_room_type                 object\n",
       "booking_changes                     int64\n",
       "deposit_type                       object\n",
       "agent                             float64\n",
       "company                           float64\n",
       "days_in_waiting_list                int64\n",
       "customer_type                      object\n",
       "adr                               float64\n",
       "required_car_parking_spaces         int64\n",
       "total_of_special_requests           int64\n",
       "reservation_status                 object\n",
       "reservation_status_date            object\n",
       "dtype: object"
      ]
     },
     "execution_count": 11,
     "metadata": {},
     "output_type": "execute_result"
    }
   ],
   "source": [
    "df.dtypes"
   ]
  },
  {
   "cell_type": "markdown",
   "id": "88bce08c",
   "metadata": {},
   "source": [
    "#### Converting float values in children, company, and agent to integer"
   ]
  },
  {
   "cell_type": "code",
   "execution_count": 12,
   "id": "910552c3",
   "metadata": {},
   "outputs": [],
   "source": [
    "df[['children', 'company', 'agent']] = df[['children', 'company', 'agent']].astype('int64')"
   ]
  },
  {
   "cell_type": "markdown",
   "id": "ec18d050",
   "metadata": {},
   "source": [
    "### 1. How Many Booking Were Cancelled?"
   ]
  },
  {
   "cell_type": "code",
   "execution_count": 13,
   "id": "4a4caf13",
   "metadata": {},
   "outputs": [
    {
     "data": {
      "text/plain": [
       "0    0.629234\n",
       "1    0.370766\n",
       "Name: is_canceled, dtype: float64"
      ]
     },
     "execution_count": 13,
     "metadata": {},
     "output_type": "execute_result"
    }
   ],
   "source": [
    "percent_canx=df['is_canceled'].value_counts()/len(df['is_canceled'])\n",
    "percent_canx"
   ]
  },
  {
   "cell_type": "markdown",
   "id": "b567097a",
   "metadata": {},
   "source": [
    "is_canceled have two unique values: 1 if booking got canceled, else 0; cancellation percentage is 37.07%"
   ]
  },
  {
   "cell_type": "code",
   "execution_count": 14,
   "id": "3b268d82",
   "metadata": {},
   "outputs": [
    {
     "data": {
      "text/plain": [
       "<AxesSubplot:>"
      ]
     },
     "execution_count": 14,
     "metadata": {},
     "output_type": "execute_result"
    },
    {
     "data": {
      "image/png": "[encoded data removed]",
      "text/plain": [
       "<Figure size 432x288 with 1 Axes>"
      ]
     },
     "metadata": {
      "needs_background": "light"
     },
     "output_type": "display_data"
    }
   ],
   "source": [
    "df.is_canceled.value_counts().plot.bar()"
   ]
  },
  {
   "cell_type": "markdown",
   "id": "65d66f5e",
   "metadata": {},
   "source": [
    "For further analysis, We will select only those bookings which did not get canceled"
   ]
  },
  {
   "cell_type": "code",
   "execution_count": 15,
   "id": "bc318067",
   "metadata": {},
   "outputs": [],
   "source": [
    "df_not_canceled = df[df['is_canceled'] == 0]"
   ]
  },
  {
   "cell_type": "markdown",
   "id": "81616228",
   "metadata": {},
   "source": [
    "### 2. What is the booking ratio between Resort Hotel and City Hotel?"
   ]
  },
  {
   "cell_type": "code",
   "execution_count": 16,
   "id": "37b9a13e",
   "metadata": {},
   "outputs": [
    {
     "data": {
      "text/plain": [
       "City Hotel      46084\n",
       "Resort Hotel    28927\n",
       "Name: hotel, dtype: int64"
      ]
     },
     "execution_count": 16,
     "metadata": {},
     "output_type": "execute_result"
    }
   ],
   "source": [
    "df_not_canceled['hotel'].value_counts()"
   ]
  },
  {
   "cell_type": "code",
   "execution_count": 17,
   "id": "ae9de467",
   "metadata": {},
   "outputs": [
    {
     "data": {
      "text/plain": [
       "<AxesSubplot:>"
      ]
     },
     "execution_count": 17,
     "metadata": {},
     "output_type": "execute_result"
    },
    {
     "data": {
      "image/png": "[encoded data removed]",
      "text/plain": [
       "<Figure size 432x288 with 1 Axes>"
      ]
     },
     "metadata": {
      "needs_background": "light"
     },
     "output_type": "display_data"
    }
   ],
   "source": [
    "df_not_canceled['hotel'].value_counts().plot.bar()"
   ]
  },
  {
   "cell_type": "code",
   "execution_count": 18,
   "id": "88a5dcd7",
   "metadata": {},
   "outputs": [
    {
     "data": {
      "text/plain": [
       "City Hotel      0.614363\n",
       "Resort Hotel    0.385637\n",
       "Name: hotel, dtype: float64"
      ]
     },
     "execution_count": 18,
     "metadata": {},
     "output_type": "execute_result"
    }
   ],
   "source": [
    "percent_bookings=df_not_canceled['hotel'].value_counts()/len(df_not_canceled['hotel'])\n",
    "percent_bookings"
   ]
  },
  {
   "cell_type": "markdown",
   "id": "8152f120",
   "metadata": {},
   "source": [
    "More than 60% of the population booked the City hotel"
   ]
  },
  {
   "cell_type": "markdown",
   "id": "8035abf5",
   "metadata": {},
   "source": [
    "### 3. What is the percentage of booking for each year?"
   ]
  },
  {
   "cell_type": "code",
   "execution_count": 19,
   "id": "b6509fd8",
   "metadata": {},
   "outputs": [
    {
     "data": {
      "text/plain": [
       "2016    36299\n",
       "2017    24886\n",
       "2015    13826\n",
       "Name: arrival_date_year, dtype: int64"
      ]
     },
     "execution_count": 19,
     "metadata": {},
     "output_type": "execute_result"
    }
   ],
   "source": [
    "df_not_canceled['arrival_date_year'].value_counts()"
   ]
  },
  {
   "cell_type": "code",
   "execution_count": 20,
   "id": "bc33e19e",
   "metadata": {},
   "outputs": [
    {
     "data": {
      "text/plain": [
       "<AxesSubplot:>"
      ]
     },
     "execution_count": 20,
     "metadata": {},
     "output_type": "execute_result"
    },
    {
     "data": {
      "image/png": "[encoded data removed]",
      "text/plain": [
       "<Figure size 432x288 with 1 Axes>"
      ]
     },
     "metadata": {
      "needs_background": "light"
     },
     "output_type": "display_data"
    }
   ],
   "source": [
    "df_not_canceled['arrival_date_year'].value_counts().plot.bar()"
   ]
  },
  {
   "cell_type": "code",
   "execution_count": 21,
   "id": "f7b504b9",
   "metadata": {},
   "outputs": [],
   "source": [
    "df_not_canceled_2015=df_not_canceled[(df_not_canceled.arrival_date_year==2015)]"
   ]
  },
  {
   "cell_type": "code",
   "execution_count": 22,
   "id": "f3d59c0e",
   "metadata": {},
   "outputs": [
    {
     "data": {
      "text/plain": [
       "0.18431963312047567"
      ]
     },
     "execution_count": 22,
     "metadata": {},
     "output_type": "execute_result"
    }
   ],
   "source": [
    "percent_bookings_2015=df_not_canceled_2015['hotel'].count()/len(df_not_canceled['arrival_date_year'])\n",
    "percent_bookings_2015"
   ]
  },
  {
   "cell_type": "code",
   "execution_count": 23,
   "id": "6c4dc1d5",
   "metadata": {},
   "outputs": [],
   "source": [
    "df_not_canceled_2016=df_not_canceled[(df_not_canceled.arrival_date_year==2016)]"
   ]
  },
  {
   "cell_type": "code",
   "execution_count": 24,
   "id": "7581eb11",
   "metadata": {},
   "outputs": [
    {
     "data": {
      "text/plain": [
       "0.4839156923651198"
      ]
     },
     "execution_count": 24,
     "metadata": {},
     "output_type": "execute_result"
    }
   ],
   "source": [
    "percent_bookings_2016=df_not_canceled_2016['hotel'].count()/len(df_not_canceled['arrival_date_year'])\n",
    "percent_bookings_2016"
   ]
  },
  {
   "cell_type": "code",
   "execution_count": 25,
   "id": "0f7b6ac0",
   "metadata": {},
   "outputs": [],
   "source": [
    "df_not_canceled_2017=df_not_canceled[(df_not_canceled.arrival_date_year==2017)]"
   ]
  },
  {
   "cell_type": "code",
   "execution_count": 26,
   "id": "3d66fba2",
   "metadata": {},
   "outputs": [
    {
     "data": {
      "text/plain": [
       "0.33176467451440456"
      ]
     },
     "execution_count": 26,
     "metadata": {},
     "output_type": "execute_result"
    }
   ],
   "source": [
    "percent_bookings_2017=df_not_canceled_2017['hotel'].count()/len(df_not_canceled['arrival_date_year'])\n",
    "percent_bookings_2017"
   ]
  },
  {
   "cell_type": "markdown",
   "id": "c5c68251",
   "metadata": {},
   "source": [
    "#### More than double bookings were made in 2016, compared to the previous year. But the bookings decreased by almost 15% the next year."
   ]
  },
  {
   "cell_type": "code",
   "execution_count": 27,
   "id": "d724d337",
   "metadata": {},
   "outputs": [
    {
     "data": {
      "text/plain": [
       "<AxesSubplot:xlabel='arrival_date_year', ylabel='count'>"
      ]
     },
     "execution_count": 27,
     "metadata": {},
     "output_type": "execute_result"
    },
    {
     "data": {
      "image/png": "[encoded data removed]",
      "text/plain": [
       "<Figure size 432x288 with 1 Axes>"
      ]
     },
     "metadata": {
      "needs_background": "light"
     },
     "output_type": "display_data"
    }
   ],
   "source": [
    "sns.countplot(x='arrival_date_year', hue='hotel',  data=df_not_canceled)"
   ]
  },
  {
   "cell_type": "markdown",
   "id": "0e65da80",
   "metadata": {},
   "source": [
    "### 4. Which is the busiest month for hotels?"
   ]
  },
  {
   "cell_type": "markdown",
   "id": "0483ca55",
   "metadata": {},
   "source": [
    "To answer this question, we will select the arrival_date_month feature and get its value count. Now the resulting data will not be sorted according to month order so we have to sort it. We will make the new list with the names of months in order to sort our data according to this list."
   ]
  },
  {
   "cell_type": "code",
   "execution_count": 28,
   "id": "26069546",
   "metadata": {},
   "outputs": [
    {
     "data": {
      "text/plain": [
       "[<matplotlib.lines.Line2D at 0x241e90f3f70>]"
      ]
     },
     "execution_count": 28,
     "metadata": {},
     "output_type": "execute_result"
    },
    {
     "data": {
      "image/png": "[encoded data removed]",
      "text/plain": [
       "<Figure size 1296x432 with 1 Axes>"
      ]
     },
     "metadata": {
      "needs_background": "light"
     },
     "output_type": "display_data"
    }
   ],
   "source": [
    "new_order = ['January', 'February', 'March', 'April', 'May', 'June', 'July', 'August', 'September',\n",
    "             'October', 'November', 'December']\n",
    "\n",
    "sorted_months = df_not_canceled['arrival_date_month'].value_counts().reindex(new_order)\n",
    "plt.rcParams['figure.figsize']=(18,6)\n",
    "plt.plot(sorted_months)"
   ]
  },
  {
   "cell_type": "markdown",
   "id": "b76f8176",
   "metadata": {},
   "source": [
    "#### As we can see most bookings were made from July to August. And the least bookings were made at the start and end of the year."
   ]
  },
  {
   "cell_type": "markdown",
   "id": "a392b073",
   "metadata": {},
   "source": [
    "Let’s separate the data for each hotel type and then see the trend."
   ]
  },
  {
   "cell_type": "code",
   "execution_count": 29,
   "id": "d1419e14",
   "metadata": {},
   "outputs": [
    {
     "data": {
      "text/plain": [
       "[<matplotlib.lines.Line2D at 0x241eae5e160>]"
      ]
     },
     "execution_count": 29,
     "metadata": {},
     "output_type": "execute_result"
    },
    {
     "data": {
      "image/png": "[encoded data removed]",
      "text/plain": [
       "<Figure size 1296x432 with 1 Axes>"
      ]
     },
     "metadata": {
      "needs_background": "light"
     },
     "output_type": "display_data"
    }
   ],
   "source": [
    "new_order = ['January', 'February', 'March', 'April', 'May', 'June', 'July', 'August', 'September', 'October', \n",
    "             'November', 'December']\n",
    "## Select only City Hotel\n",
    "sorted_months_city = df_not_canceled.loc[df.hotel=='City Hotel' ,'arrival_date_month'].value_counts().reindex(new_order)\n",
    "\n",
    "## Select only Resort Hotel\n",
    "sorted_months_resort = df_not_canceled.loc[df.hotel=='Resort Hotel' ,'arrival_date_month'].value_counts().reindex(new_order)\n",
    "plt.rcParams['figure.figsize']=(18,6)\n",
    "plt.plot(sorted_months_city,'b-o')\n",
    "plt.plot(sorted_months_resort,'r-o')"
   ]
  },
  {
   "cell_type": "markdown",
   "id": "06f1c447",
   "metadata": {},
   "source": [
    "#### We can see the trend is kind of similar with a small difference. Resort has more bookings at the start and end of the year, and lower booking in June and September."
   ]
  },
  {
   "cell_type": "markdown",
   "id": "d74a083f",
   "metadata": {},
   "source": [
    "### 5. From which country most guests come?"
   ]
  },
  {
   "cell_type": "code",
   "execution_count": 30,
   "id": "e107e9e4",
   "metadata": {},
   "outputs": [
    {
     "data": {
      "image/png": "[encoded data removed]",
      "text/plain": [
       "<Figure size 1296x432 with 1 Axes>"
      ]
     },
     "metadata": {
      "needs_background": "light"
     },
     "output_type": "display_data"
    }
   ],
   "source": [
    "df_not_canceled['country'].value_counts()[:11].plot.bar()\n",
    "plt.rcParams['figure.figsize']=(18,6)"
   ]
  },
  {
   "cell_type": "markdown",
   "id": "1aa1a311",
   "metadata": {},
   "source": [
    "#### Portugal, UK and France, Spain and Germany are the top countries from most guests come, more than 80% come from these 5 countries."
   ]
  },
  {
   "cell_type": "markdown",
   "id": "e1c9a5a1",
   "metadata": {},
   "source": [
    "### 6. How Long People Stay in the hotel?"
   ]
  },
  {
   "cell_type": "code",
   "execution_count": 31,
   "id": "405a6120",
   "metadata": {},
   "outputs": [
    {
     "data": {
      "text/plain": [
       "<AxesSubplot:>"
      ]
     },
     "execution_count": 31,
     "metadata": {},
     "output_type": "execute_result"
    },
    {
     "data": {
      "image/png": "[encoded data removed]",
      "text/plain": [
       "<Figure size 1296x432 with 1 Axes>"
      ]
     },
     "metadata": {
      "needs_background": "light"
     },
     "output_type": "display_data"
    }
   ],
   "source": [
    "total_nights = df_not_canceled['stays_in_weekend_nights']+ df_not_canceled['stays_in_week_nights']\n",
    "total_nights.value_counts()[:10].plot.bar()"
   ]
  },
  {
   "cell_type": "markdown",
   "id": "bf12b7f1",
   "metadata": {},
   "source": [
    "#### Most people stay for one, two, or three."
   ]
  },
  {
   "cell_type": "markdown",
   "id": "b8bd5ca3",
   "metadata": {},
   "source": [
    "Let’s see the stay duration trend for each hotel type."
   ]
  },
  {
   "cell_type": "code",
   "execution_count": 32,
   "id": "a6a4fd86",
   "metadata": {},
   "outputs": [],
   "source": [
    "df_not_canceled['total_nights']= df_not_canceled['stays_in_weekend_nights']+ df_not_canceled['stays_in_week_nights']"
   ]
  },
  {
   "cell_type": "code",
   "execution_count": 33,
   "id": "a271d464",
   "metadata": {},
   "outputs": [
    {
     "data": {
      "text/plain": [
       "<AxesSubplot:xlabel='total_nights', ylabel='count'>"
      ]
     },
     "execution_count": 33,
     "metadata": {},
     "output_type": "execute_result"
    },
    {
     "data": {
      "image/png": "[encoded data removed]",
      "text/plain": [
       "<Figure size 1296x432 with 1 Axes>"
      ]
     },
     "metadata": {
      "needs_background": "light"
     },
     "output_type": "display_data"
    }
   ],
   "source": [
    "sns.countplot(x='total_nights', hue='hotel', data=df_not_canceled,\n",
    "              order = df_not_canceled.total_nights.value_counts().iloc[:10].index)"
   ]
  },
  {
   "cell_type": "markdown",
   "id": "9bb17fc4",
   "metadata": {},
   "source": [
    "For City hotel, the most popular stay duration is three, two, one, and four days respectively.\n",
    "For Resort hotel, most popular stay duration is one, two, seven(week), and three respectively"
   ]
  },
  {
   "cell_type": "markdown",
   "id": "20ff433e",
   "metadata": {},
   "source": [
    "### 7. Which was the most booked accommodation type (Single, Couple, Family)?"
   ]
  },
  {
   "cell_type": "markdown",
   "id": "1fc3d596",
   "metadata": {},
   "source": [
    "We will divide people staying in the hotel into 3 categories.\n",
    "\n",
    "Single: 1 Adult only\n",
    "\n",
    "Couple: 2 Adults\n",
    "\n",
    "Family or Friends: More than 2 people including adults, children, and babies."
   ]
  },
  {
   "cell_type": "code",
   "execution_count": 34,
   "id": "dd875375",
   "metadata": {},
   "outputs": [],
   "source": [
    "## Select single, couple, multiple adults and family\n",
    "single   = df_not_canceled[(df_not_canceled.adults==1) & (df_not_canceled.children==0) & (df_not_canceled.babies==0)]\n",
    "couple   = df_not_canceled[(df_not_canceled.adults==2) & (df_not_canceled.children==0) & (df_not_canceled.babies==0)]\n",
    "family   = df_not_canceled[(df_not_canceled.adults + df_not_canceled.children + df_not_canceled.babies > 2)]"
   ]
  },
  {
   "cell_type": "markdown",
   "id": "77170cfc",
   "metadata": {},
   "source": [
    "Number of bookings for single, couple, family"
   ]
  },
  {
   "cell_type": "code",
   "execution_count": 35,
   "id": "41a6a493",
   "metadata": {},
   "outputs": [
    {
     "data": {
      "text/plain": [
       "(16022, 49136, 9506)"
      ]
     },
     "execution_count": 35,
     "metadata": {},
     "output_type": "execute_result"
    }
   ],
   "source": [
    "single.shape[0],couple.shape[0], family.shape[0]"
   ]
  },
  {
   "cell_type": "code",
   "execution_count": 36,
   "id": "b9be9df5",
   "metadata": {},
   "outputs": [
    {
     "data": {
      "text/plain": [
       "<AxesSubplot:>"
      ]
     },
     "execution_count": 36,
     "metadata": {},
     "output_type": "execute_result"
    },
    {
     "data": {
      "image/png": "[encoded data removed]",
      "text/plain": [
       "<Figure size 1296x432 with 1 Axes>"
      ]
     },
     "metadata": {
      "needs_background": "light"
     },
     "output_type": "display_data"
    }
   ],
   "source": [
    "single['hotel'].value_counts().plot.bar()"
   ]
  },
  {
   "cell_type": "code",
   "execution_count": 37,
   "id": "ef825c55",
   "metadata": {},
   "outputs": [
    {
     "data": {
      "text/plain": [
       "<AxesSubplot:>"
      ]
     },
     "execution_count": 37,
     "metadata": {},
     "output_type": "execute_result"
    },
    {
     "data": {
      "image/png": "[encoded data removed]",
      "text/plain": [
       "<Figure size 1296x432 with 1 Axes>"
      ]
     },
     "metadata": {
      "needs_background": "light"
     },
     "output_type": "display_data"
    }
   ],
   "source": [
    "couple['hotel'].value_counts().plot.bar()"
   ]
  },
  {
   "cell_type": "code",
   "execution_count": 38,
   "id": "0339d85e",
   "metadata": {},
   "outputs": [
    {
     "data": {
      "text/plain": [
       "<AxesSubplot:>"
      ]
     },
     "execution_count": 38,
     "metadata": {},
     "output_type": "execute_result"
    },
    {
     "data": {
      "image/png": "[encoded data removed]",
      "text/plain": [
       "<Figure size 1296x432 with 1 Axes>"
      ]
     },
     "metadata": {
      "needs_background": "light"
     },
     "output_type": "display_data"
    }
   ],
   "source": [
    "family['hotel'].value_counts().plot.bar()"
   ]
  },
  {
   "cell_type": "markdown",
   "id": "06a2a5c4",
   "metadata": {},
   "source": [
    "Couple (or 2 adults) is the most popular accommodation type. So hotels can make plans accordingly"
   ]
  },
  {
   "cell_type": "markdown",
   "id": "fc39c2d9",
   "metadata": {},
   "source": [
    "### Feature Selection and Feature Engineering"
   ]
  },
  {
   "cell_type": "markdown",
   "id": "09737b78",
   "metadata": {},
   "source": [
    "making a copy of dataframe."
   ]
  },
  {
   "cell_type": "code",
   "execution_count": 39,
   "id": "7eeb81f9",
   "metadata": {},
   "outputs": [],
   "source": [
    "df_subset = df.copy()"
   ]
  },
  {
   "cell_type": "markdown",
   "id": "7ffb534c",
   "metadata": {},
   "source": [
    "#### Creating some new features.\n",
    "\n",
    "We have two features in our dataset reserved_room_type and another is assigned_room_type. We will make the new feature let’s call it Room which will contain 1 if the guest was assigned the same room that was reserved else 0. Guest can cancel the booking if he did not get the same room.\n",
    "\n",
    "Another feature will be net_cancelled. It will contain 1 If the current customer has canceled more bookings in the past than the number of bookings he did not cancel, else 0."
   ]
  },
  {
   "cell_type": "code",
   "execution_count": 40,
   "id": "5dd0ffbe",
   "metadata": {},
   "outputs": [
    {
     "data": {
      "text/html": [
       "<div>\n",
       "<style scoped>\n",
       "    .dataframe tbody tr th:only-of-type {\n",
       "        vertical-align: middle;\n",
       "    }\n",
       "\n",
       "    .dataframe tbody tr th {\n",
       "        vertical-align: top;\n",
       "    }\n",
       "\n",
       "    .dataframe thead th {\n",
       "        text-align: right;\n",
       "    }\n",
       "</style>\n",
       "<table border=\"1\" class=\"dataframe\">\n",
       "  <thead>\n",
       "    <tr style=\"text-align: right;\">\n",
       "      <th></th>\n",
       "      <th>hotel</th>\n",
       "      <th>is_canceled</th>\n",
       "      <th>lead_time</th>\n",
       "      <th>arrival_date_year</th>\n",
       "      <th>arrival_date_month</th>\n",
       "      <th>arrival_date_week_number</th>\n",
       "      <th>arrival_date_day_of_month</th>\n",
       "      <th>stays_in_weekend_nights</th>\n",
       "      <th>stays_in_week_nights</th>\n",
       "      <th>adults</th>\n",
       "      <th>children</th>\n",
       "      <th>babies</th>\n",
       "      <th>meal</th>\n",
       "      <th>country</th>\n",
       "      <th>market_segment</th>\n",
       "      <th>distribution_channel</th>\n",
       "      <th>is_repeated_guest</th>\n",
       "      <th>previous_cancellations</th>\n",
       "      <th>previous_bookings_not_canceled</th>\n",
       "      <th>reserved_room_type</th>\n",
       "      <th>assigned_room_type</th>\n",
       "      <th>booking_changes</th>\n",
       "      <th>deposit_type</th>\n",
       "      <th>agent</th>\n",
       "      <th>company</th>\n",
       "      <th>days_in_waiting_list</th>\n",
       "      <th>customer_type</th>\n",
       "      <th>adr</th>\n",
       "      <th>required_car_parking_spaces</th>\n",
       "      <th>total_of_special_requests</th>\n",
       "      <th>reservation_status</th>\n",
       "      <th>reservation_status_date</th>\n",
       "      <th>Room</th>\n",
       "    </tr>\n",
       "  </thead>\n",
       "  <tbody>\n",
       "    <tr>\n",
       "      <th>0</th>\n",
       "      <td>Resort Hotel</td>\n",
       "      <td>0</td>\n",
       "      <td>342</td>\n",
       "      <td>2015</td>\n",
       "      <td>July</td>\n",
       "      <td>27</td>\n",
       "      <td>1</td>\n",
       "      <td>0</td>\n",
       "      <td>0</td>\n",
       "      <td>2</td>\n",
       "      <td>0</td>\n",
       "      <td>0</td>\n",
       "      <td>BB</td>\n",
       "      <td>PRT</td>\n",
       "      <td>Direct</td>\n",
       "      <td>Direct</td>\n",
       "      <td>0</td>\n",
       "      <td>0</td>\n",
       "      <td>0</td>\n",
       "      <td>C</td>\n",
       "      <td>C</td>\n",
       "      <td>3</td>\n",
       "      <td>No Deposit</td>\n",
       "      <td>0</td>\n",
       "      <td>0</td>\n",
       "      <td>0</td>\n",
       "      <td>Transient</td>\n",
       "      <td>0.0</td>\n",
       "      <td>0</td>\n",
       "      <td>0</td>\n",
       "      <td>Check-Out</td>\n",
       "      <td>2015-07-01</td>\n",
       "      <td>1</td>\n",
       "    </tr>\n",
       "    <tr>\n",
       "      <th>1</th>\n",
       "      <td>Resort Hotel</td>\n",
       "      <td>0</td>\n",
       "      <td>737</td>\n",
       "      <td>2015</td>\n",
       "      <td>July</td>\n",
       "      <td>27</td>\n",
       "      <td>1</td>\n",
       "      <td>0</td>\n",
       "      <td>0</td>\n",
       "      <td>2</td>\n",
       "      <td>0</td>\n",
       "      <td>0</td>\n",
       "      <td>BB</td>\n",
       "      <td>PRT</td>\n",
       "      <td>Direct</td>\n",
       "      <td>Direct</td>\n",
       "      <td>0</td>\n",
       "      <td>0</td>\n",
       "      <td>0</td>\n",
       "      <td>C</td>\n",
       "      <td>C</td>\n",
       "      <td>4</td>\n",
       "      <td>No Deposit</td>\n",
       "      <td>0</td>\n",
       "      <td>0</td>\n",
       "      <td>0</td>\n",
       "      <td>Transient</td>\n",
       "      <td>0.0</td>\n",
       "      <td>0</td>\n",
       "      <td>0</td>\n",
       "      <td>Check-Out</td>\n",
       "      <td>2015-07-01</td>\n",
       "      <td>1</td>\n",
       "    </tr>\n",
       "    <tr>\n",
       "      <th>2</th>\n",
       "      <td>Resort Hotel</td>\n",
       "      <td>0</td>\n",
       "      <td>7</td>\n",
       "      <td>2015</td>\n",
       "      <td>July</td>\n",
       "      <td>27</td>\n",
       "      <td>1</td>\n",
       "      <td>0</td>\n",
       "      <td>1</td>\n",
       "      <td>1</td>\n",
       "      <td>0</td>\n",
       "      <td>0</td>\n",
       "      <td>BB</td>\n",
       "      <td>GBR</td>\n",
       "      <td>Direct</td>\n",
       "      <td>Direct</td>\n",
       "      <td>0</td>\n",
       "      <td>0</td>\n",
       "      <td>0</td>\n",
       "      <td>A</td>\n",
       "      <td>C</td>\n",
       "      <td>0</td>\n",
       "      <td>No Deposit</td>\n",
       "      <td>0</td>\n",
       "      <td>0</td>\n",
       "      <td>0</td>\n",
       "      <td>Transient</td>\n",
       "      <td>75.0</td>\n",
       "      <td>0</td>\n",
       "      <td>0</td>\n",
       "      <td>Check-Out</td>\n",
       "      <td>2015-07-02</td>\n",
       "      <td>0</td>\n",
       "    </tr>\n",
       "    <tr>\n",
       "      <th>3</th>\n",
       "      <td>Resort Hotel</td>\n",
       "      <td>0</td>\n",
       "      <td>13</td>\n",
       "      <td>2015</td>\n",
       "      <td>July</td>\n",
       "      <td>27</td>\n",
       "      <td>1</td>\n",
       "      <td>0</td>\n",
       "      <td>1</td>\n",
       "      <td>1</td>\n",
       "      <td>0</td>\n",
       "      <td>0</td>\n",
       "      <td>BB</td>\n",
       "      <td>GBR</td>\n",
       "      <td>Corporate</td>\n",
       "      <td>Corporate</td>\n",
       "      <td>0</td>\n",
       "      <td>0</td>\n",
       "      <td>0</td>\n",
       "      <td>A</td>\n",
       "      <td>A</td>\n",
       "      <td>0</td>\n",
       "      <td>No Deposit</td>\n",
       "      <td>304</td>\n",
       "      <td>0</td>\n",
       "      <td>0</td>\n",
       "      <td>Transient</td>\n",
       "      <td>75.0</td>\n",
       "      <td>0</td>\n",
       "      <td>0</td>\n",
       "      <td>Check-Out</td>\n",
       "      <td>2015-07-02</td>\n",
       "      <td>1</td>\n",
       "    </tr>\n",
       "    <tr>\n",
       "      <th>4</th>\n",
       "      <td>Resort Hotel</td>\n",
       "      <td>0</td>\n",
       "      <td>14</td>\n",
       "      <td>2015</td>\n",
       "      <td>July</td>\n",
       "      <td>27</td>\n",
       "      <td>1</td>\n",
       "      <td>0</td>\n",
       "      <td>2</td>\n",
       "      <td>2</td>\n",
       "      <td>0</td>\n",
       "      <td>0</td>\n",
       "      <td>BB</td>\n",
       "      <td>GBR</td>\n",
       "      <td>Online TA</td>\n",
       "      <td>TA/TO</td>\n",
       "      <td>0</td>\n",
       "      <td>0</td>\n",
       "      <td>0</td>\n",
       "      <td>A</td>\n",
       "      <td>A</td>\n",
       "      <td>0</td>\n",
       "      <td>No Deposit</td>\n",
       "      <td>240</td>\n",
       "      <td>0</td>\n",
       "      <td>0</td>\n",
       "      <td>Transient</td>\n",
       "      <td>98.0</td>\n",
       "      <td>0</td>\n",
       "      <td>1</td>\n",
       "      <td>Check-Out</td>\n",
       "      <td>2015-07-03</td>\n",
       "      <td>1</td>\n",
       "    </tr>\n",
       "  </tbody>\n",
       "</table>\n",
       "</div>"
      ],
      "text/plain": [
       "          hotel  is_canceled  lead_time  arrival_date_year arrival_date_month  \\\n",
       "0  Resort Hotel            0        342               2015               July   \n",
       "1  Resort Hotel            0        737               2015               July   \n",
       "2  Resort Hotel            0          7               2015               July   \n",
       "3  Resort Hotel            0         13               2015               July   \n",
       "4  Resort Hotel            0         14               2015               July   \n",
       "\n",
       "   arrival_date_week_number  arrival_date_day_of_month  \\\n",
       "0                        27                          1   \n",
       "1                        27                          1   \n",
       "2                        27                          1   \n",
       "3                        27                          1   \n",
       "4                        27                          1   \n",
       "\n",
       "   stays_in_weekend_nights  stays_in_week_nights  adults  children  babies  \\\n",
       "0                        0                     0       2         0       0   \n",
       "1                        0                     0       2         0       0   \n",
       "2                        0                     1       1         0       0   \n",
       "3                        0                     1       1         0       0   \n",
       "4                        0                     2       2         0       0   \n",
       "\n",
       "  meal country market_segment distribution_channel  is_repeated_guest  \\\n",
       "0   BB     PRT         Direct               Direct                  0   \n",
       "1   BB     PRT         Direct               Direct                  0   \n",
       "2   BB     GBR         Direct               Direct                  0   \n",
       "3   BB     GBR      Corporate            Corporate                  0   \n",
       "4   BB     GBR      Online TA                TA/TO                  0   \n",
       "\n",
       "   previous_cancellations  previous_bookings_not_canceled reserved_room_type  \\\n",
       "0                       0                               0                  C   \n",
       "1                       0                               0                  C   \n",
       "2                       0                               0                  A   \n",
       "3                       0                               0                  A   \n",
       "4                       0                               0                  A   \n",
       "\n",
       "  assigned_room_type  booking_changes deposit_type  agent  company  \\\n",
       "0                  C                3   No Deposit      0        0   \n",
       "1                  C                4   No Deposit      0        0   \n",
       "2                  C                0   No Deposit      0        0   \n",
       "3                  A                0   No Deposit    304        0   \n",
       "4                  A                0   No Deposit    240        0   \n",
       "\n",
       "   days_in_waiting_list customer_type   adr  required_car_parking_spaces  \\\n",
       "0                     0     Transient   0.0                            0   \n",
       "1                     0     Transient   0.0                            0   \n",
       "2                     0     Transient  75.0                            0   \n",
       "3                     0     Transient  75.0                            0   \n",
       "4                     0     Transient  98.0                            0   \n",
       "\n",
       "   total_of_special_requests reservation_status reservation_status_date  Room  \n",
       "0                          0          Check-Out              2015-07-01     1  \n",
       "1                          0          Check-Out              2015-07-01     1  \n",
       "2                          0          Check-Out              2015-07-02     0  \n",
       "3                          0          Check-Out              2015-07-02     1  \n",
       "4                          1          Check-Out              2015-07-03     1  "
      ]
     },
     "execution_count": 40,
     "metadata": {},
     "output_type": "execute_result"
    }
   ],
   "source": [
    "df_subset['Room'] = 0\n",
    "df_subset.loc[ df_subset['reserved_room_type'] == df_subset['assigned_room_type'] , 'Room'] = 1\n",
    "df_subset.head()"
   ]
  },
  {
   "cell_type": "code",
   "execution_count": 41,
   "id": "70741e4c",
   "metadata": {},
   "outputs": [
    {
     "data": {
      "text/html": [
       "<div>\n",
       "<style scoped>\n",
       "    .dataframe tbody tr th:only-of-type {\n",
       "        vertical-align: middle;\n",
       "    }\n",
       "\n",
       "    .dataframe tbody tr th {\n",
       "        vertical-align: top;\n",
       "    }\n",
       "\n",
       "    .dataframe thead th {\n",
       "        text-align: right;\n",
       "    }\n",
       "</style>\n",
       "<table border=\"1\" class=\"dataframe\">\n",
       "  <thead>\n",
       "    <tr style=\"text-align: right;\">\n",
       "      <th></th>\n",
       "      <th>hotel</th>\n",
       "      <th>is_canceled</th>\n",
       "      <th>lead_time</th>\n",
       "      <th>arrival_date_year</th>\n",
       "      <th>arrival_date_month</th>\n",
       "      <th>arrival_date_week_number</th>\n",
       "      <th>arrival_date_day_of_month</th>\n",
       "      <th>stays_in_weekend_nights</th>\n",
       "      <th>stays_in_week_nights</th>\n",
       "      <th>adults</th>\n",
       "      <th>children</th>\n",
       "      <th>babies</th>\n",
       "      <th>meal</th>\n",
       "      <th>country</th>\n",
       "      <th>market_segment</th>\n",
       "      <th>distribution_channel</th>\n",
       "      <th>is_repeated_guest</th>\n",
       "      <th>previous_cancellations</th>\n",
       "      <th>previous_bookings_not_canceled</th>\n",
       "      <th>reserved_room_type</th>\n",
       "      <th>assigned_room_type</th>\n",
       "      <th>booking_changes</th>\n",
       "      <th>deposit_type</th>\n",
       "      <th>agent</th>\n",
       "      <th>company</th>\n",
       "      <th>days_in_waiting_list</th>\n",
       "      <th>customer_type</th>\n",
       "      <th>adr</th>\n",
       "      <th>required_car_parking_spaces</th>\n",
       "      <th>total_of_special_requests</th>\n",
       "      <th>reservation_status</th>\n",
       "      <th>reservation_status_date</th>\n",
       "      <th>Room</th>\n",
       "      <th>net_cancelled</th>\n",
       "    </tr>\n",
       "  </thead>\n",
       "  <tbody>\n",
       "    <tr>\n",
       "      <th>13988</th>\n",
       "      <td>Resort Hotel</td>\n",
       "      <td>1</td>\n",
       "      <td>11</td>\n",
       "      <td>2016</td>\n",
       "      <td>July</td>\n",
       "      <td>28</td>\n",
       "      <td>4</td>\n",
       "      <td>1</td>\n",
       "      <td>3</td>\n",
       "      <td>1</td>\n",
       "      <td>0</td>\n",
       "      <td>0</td>\n",
       "      <td>BB</td>\n",
       "      <td>0    PRT</td>\n",
       "      <td>Corporate</td>\n",
       "      <td>Direct</td>\n",
       "      <td>0</td>\n",
       "      <td>1</td>\n",
       "      <td>0</td>\n",
       "      <td>A</td>\n",
       "      <td>A</td>\n",
       "      <td>0</td>\n",
       "      <td>No Deposit</td>\n",
       "      <td>0</td>\n",
       "      <td>39</td>\n",
       "      <td>0</td>\n",
       "      <td>Transient</td>\n",
       "      <td>65.00</td>\n",
       "      <td>0</td>\n",
       "      <td>0</td>\n",
       "      <td>Canceled</td>\n",
       "      <td>2016-06-23</td>\n",
       "      <td>1</td>\n",
       "      <td>1</td>\n",
       "    </tr>\n",
       "    <tr>\n",
       "      <th>13989</th>\n",
       "      <td>Resort Hotel</td>\n",
       "      <td>0</td>\n",
       "      <td>11</td>\n",
       "      <td>2016</td>\n",
       "      <td>October</td>\n",
       "      <td>44</td>\n",
       "      <td>24</td>\n",
       "      <td>1</td>\n",
       "      <td>3</td>\n",
       "      <td>1</td>\n",
       "      <td>0</td>\n",
       "      <td>0</td>\n",
       "      <td>BB</td>\n",
       "      <td>0    PRT</td>\n",
       "      <td>Corporate</td>\n",
       "      <td>Direct</td>\n",
       "      <td>0</td>\n",
       "      <td>1</td>\n",
       "      <td>0</td>\n",
       "      <td>A</td>\n",
       "      <td>A</td>\n",
       "      <td>0</td>\n",
       "      <td>No Deposit</td>\n",
       "      <td>0</td>\n",
       "      <td>39</td>\n",
       "      <td>0</td>\n",
       "      <td>Transient</td>\n",
       "      <td>52.00</td>\n",
       "      <td>0</td>\n",
       "      <td>0</td>\n",
       "      <td>Check-Out</td>\n",
       "      <td>2016-10-28</td>\n",
       "      <td>1</td>\n",
       "      <td>1</td>\n",
       "    </tr>\n",
       "    <tr>\n",
       "      <th>14125</th>\n",
       "      <td>Resort Hotel</td>\n",
       "      <td>1</td>\n",
       "      <td>249</td>\n",
       "      <td>2016</td>\n",
       "      <td>December</td>\n",
       "      <td>52</td>\n",
       "      <td>20</td>\n",
       "      <td>2</td>\n",
       "      <td>5</td>\n",
       "      <td>2</td>\n",
       "      <td>0</td>\n",
       "      <td>0</td>\n",
       "      <td>BB</td>\n",
       "      <td>0    PRT</td>\n",
       "      <td>Direct</td>\n",
       "      <td>Direct</td>\n",
       "      <td>0</td>\n",
       "      <td>1</td>\n",
       "      <td>0</td>\n",
       "      <td>E</td>\n",
       "      <td>E</td>\n",
       "      <td>1</td>\n",
       "      <td>No Deposit</td>\n",
       "      <td>0</td>\n",
       "      <td>0</td>\n",
       "      <td>0</td>\n",
       "      <td>Transient</td>\n",
       "      <td>42.00</td>\n",
       "      <td>0</td>\n",
       "      <td>2</td>\n",
       "      <td>Canceled</td>\n",
       "      <td>2016-12-19</td>\n",
       "      <td>1</td>\n",
       "      <td>1</td>\n",
       "    </tr>\n",
       "    <tr>\n",
       "      <th>14181</th>\n",
       "      <td>Resort Hotel</td>\n",
       "      <td>1</td>\n",
       "      <td>21</td>\n",
       "      <td>2016</td>\n",
       "      <td>December</td>\n",
       "      <td>53</td>\n",
       "      <td>30</td>\n",
       "      <td>1</td>\n",
       "      <td>2</td>\n",
       "      <td>2</td>\n",
       "      <td>0</td>\n",
       "      <td>0</td>\n",
       "      <td>BB</td>\n",
       "      <td>0    PRT</td>\n",
       "      <td>Direct</td>\n",
       "      <td>Direct</td>\n",
       "      <td>0</td>\n",
       "      <td>1</td>\n",
       "      <td>0</td>\n",
       "      <td>A</td>\n",
       "      <td>A</td>\n",
       "      <td>0</td>\n",
       "      <td>No Deposit</td>\n",
       "      <td>0</td>\n",
       "      <td>0</td>\n",
       "      <td>0</td>\n",
       "      <td>Transient</td>\n",
       "      <td>150.00</td>\n",
       "      <td>0</td>\n",
       "      <td>0</td>\n",
       "      <td>Canceled</td>\n",
       "      <td>2016-12-16</td>\n",
       "      <td>1</td>\n",
       "      <td>1</td>\n",
       "    </tr>\n",
       "    <tr>\n",
       "      <th>14182</th>\n",
       "      <td>Resort Hotel</td>\n",
       "      <td>0</td>\n",
       "      <td>80</td>\n",
       "      <td>2017</td>\n",
       "      <td>June</td>\n",
       "      <td>23</td>\n",
       "      <td>9</td>\n",
       "      <td>2</td>\n",
       "      <td>2</td>\n",
       "      <td>2</td>\n",
       "      <td>0</td>\n",
       "      <td>0</td>\n",
       "      <td>FB</td>\n",
       "      <td>PRT</td>\n",
       "      <td>Direct</td>\n",
       "      <td>Direct</td>\n",
       "      <td>0</td>\n",
       "      <td>1</td>\n",
       "      <td>0</td>\n",
       "      <td>F</td>\n",
       "      <td>F</td>\n",
       "      <td>1</td>\n",
       "      <td>No Deposit</td>\n",
       "      <td>250</td>\n",
       "      <td>0</td>\n",
       "      <td>0</td>\n",
       "      <td>Transient</td>\n",
       "      <td>195.00</td>\n",
       "      <td>0</td>\n",
       "      <td>0</td>\n",
       "      <td>Check-Out</td>\n",
       "      <td>2017-06-13</td>\n",
       "      <td>1</td>\n",
       "      <td>1</td>\n",
       "    </tr>\n",
       "    <tr>\n",
       "      <th>...</th>\n",
       "      <td>...</td>\n",
       "      <td>...</td>\n",
       "      <td>...</td>\n",
       "      <td>...</td>\n",
       "      <td>...</td>\n",
       "      <td>...</td>\n",
       "      <td>...</td>\n",
       "      <td>...</td>\n",
       "      <td>...</td>\n",
       "      <td>...</td>\n",
       "      <td>...</td>\n",
       "      <td>...</td>\n",
       "      <td>...</td>\n",
       "      <td>...</td>\n",
       "      <td>...</td>\n",
       "      <td>...</td>\n",
       "      <td>...</td>\n",
       "      <td>...</td>\n",
       "      <td>...</td>\n",
       "      <td>...</td>\n",
       "      <td>...</td>\n",
       "      <td>...</td>\n",
       "      <td>...</td>\n",
       "      <td>...</td>\n",
       "      <td>...</td>\n",
       "      <td>...</td>\n",
       "      <td>...</td>\n",
       "      <td>...</td>\n",
       "      <td>...</td>\n",
       "      <td>...</td>\n",
       "      <td>...</td>\n",
       "      <td>...</td>\n",
       "      <td>...</td>\n",
       "      <td>...</td>\n",
       "    </tr>\n",
       "    <tr>\n",
       "      <th>87648</th>\n",
       "      <td>City Hotel</td>\n",
       "      <td>1</td>\n",
       "      <td>5</td>\n",
       "      <td>2016</td>\n",
       "      <td>September</td>\n",
       "      <td>38</td>\n",
       "      <td>12</td>\n",
       "      <td>1</td>\n",
       "      <td>1</td>\n",
       "      <td>1</td>\n",
       "      <td>0</td>\n",
       "      <td>0</td>\n",
       "      <td>BB</td>\n",
       "      <td>ESP</td>\n",
       "      <td>Aviation</td>\n",
       "      <td>Corporate</td>\n",
       "      <td>1</td>\n",
       "      <td>2</td>\n",
       "      <td>1</td>\n",
       "      <td>D</td>\n",
       "      <td>D</td>\n",
       "      <td>0</td>\n",
       "      <td>No Deposit</td>\n",
       "      <td>0</td>\n",
       "      <td>153</td>\n",
       "      <td>0</td>\n",
       "      <td>Transient</td>\n",
       "      <td>110.00</td>\n",
       "      <td>0</td>\n",
       "      <td>0</td>\n",
       "      <td>Canceled</td>\n",
       "      <td>2016-09-08</td>\n",
       "      <td>1</td>\n",
       "      <td>1</td>\n",
       "    </tr>\n",
       "    <tr>\n",
       "      <th>87649</th>\n",
       "      <td>City Hotel</td>\n",
       "      <td>0</td>\n",
       "      <td>10</td>\n",
       "      <td>2016</td>\n",
       "      <td>September</td>\n",
       "      <td>40</td>\n",
       "      <td>30</td>\n",
       "      <td>2</td>\n",
       "      <td>2</td>\n",
       "      <td>1</td>\n",
       "      <td>0</td>\n",
       "      <td>0</td>\n",
       "      <td>BB</td>\n",
       "      <td>ESP</td>\n",
       "      <td>Aviation</td>\n",
       "      <td>Corporate</td>\n",
       "      <td>1</td>\n",
       "      <td>2</td>\n",
       "      <td>1</td>\n",
       "      <td>D</td>\n",
       "      <td>D</td>\n",
       "      <td>0</td>\n",
       "      <td>No Deposit</td>\n",
       "      <td>0</td>\n",
       "      <td>153</td>\n",
       "      <td>0</td>\n",
       "      <td>Transient</td>\n",
       "      <td>110.00</td>\n",
       "      <td>0</td>\n",
       "      <td>0</td>\n",
       "      <td>Check-Out</td>\n",
       "      <td>2016-10-04</td>\n",
       "      <td>1</td>\n",
       "      <td>1</td>\n",
       "    </tr>\n",
       "    <tr>\n",
       "      <th>89166</th>\n",
       "      <td>City Hotel</td>\n",
       "      <td>1</td>\n",
       "      <td>4</td>\n",
       "      <td>2017</td>\n",
       "      <td>June</td>\n",
       "      <td>24</td>\n",
       "      <td>11</td>\n",
       "      <td>2</td>\n",
       "      <td>2</td>\n",
       "      <td>1</td>\n",
       "      <td>0</td>\n",
       "      <td>0</td>\n",
       "      <td>BB</td>\n",
       "      <td>PRT</td>\n",
       "      <td>Aviation</td>\n",
       "      <td>Corporate</td>\n",
       "      <td>1</td>\n",
       "      <td>2</td>\n",
       "      <td>1</td>\n",
       "      <td>D</td>\n",
       "      <td>D</td>\n",
       "      <td>0</td>\n",
       "      <td>No Deposit</td>\n",
       "      <td>0</td>\n",
       "      <td>153</td>\n",
       "      <td>0</td>\n",
       "      <td>Transient</td>\n",
       "      <td>110.00</td>\n",
       "      <td>0</td>\n",
       "      <td>0</td>\n",
       "      <td>Canceled</td>\n",
       "      <td>2017-06-08</td>\n",
       "      <td>1</td>\n",
       "      <td>1</td>\n",
       "    </tr>\n",
       "    <tr>\n",
       "      <th>89167</th>\n",
       "      <td>City Hotel</td>\n",
       "      <td>1</td>\n",
       "      <td>8</td>\n",
       "      <td>2017</td>\n",
       "      <td>June</td>\n",
       "      <td>24</td>\n",
       "      <td>17</td>\n",
       "      <td>2</td>\n",
       "      <td>2</td>\n",
       "      <td>1</td>\n",
       "      <td>0</td>\n",
       "      <td>0</td>\n",
       "      <td>BB</td>\n",
       "      <td>PRT</td>\n",
       "      <td>Aviation</td>\n",
       "      <td>Corporate</td>\n",
       "      <td>1</td>\n",
       "      <td>2</td>\n",
       "      <td>1</td>\n",
       "      <td>D</td>\n",
       "      <td>D</td>\n",
       "      <td>0</td>\n",
       "      <td>No Deposit</td>\n",
       "      <td>0</td>\n",
       "      <td>153</td>\n",
       "      <td>0</td>\n",
       "      <td>Transient</td>\n",
       "      <td>110.00</td>\n",
       "      <td>0</td>\n",
       "      <td>0</td>\n",
       "      <td>Canceled</td>\n",
       "      <td>2017-06-17</td>\n",
       "      <td>1</td>\n",
       "      <td>1</td>\n",
       "    </tr>\n",
       "    <tr>\n",
       "      <th>91692</th>\n",
       "      <td>City Hotel</td>\n",
       "      <td>1</td>\n",
       "      <td>26</td>\n",
       "      <td>2016</td>\n",
       "      <td>June</td>\n",
       "      <td>27</td>\n",
       "      <td>26</td>\n",
       "      <td>2</td>\n",
       "      <td>1</td>\n",
       "      <td>2</td>\n",
       "      <td>0</td>\n",
       "      <td>0</td>\n",
       "      <td>BB</td>\n",
       "      <td>DEU</td>\n",
       "      <td>Online TA</td>\n",
       "      <td>TA/TO</td>\n",
       "      <td>0</td>\n",
       "      <td>1</td>\n",
       "      <td>0</td>\n",
       "      <td>D</td>\n",
       "      <td>K</td>\n",
       "      <td>0</td>\n",
       "      <td>No Deposit</td>\n",
       "      <td>9</td>\n",
       "      <td>0</td>\n",
       "      <td>0</td>\n",
       "      <td>Transient</td>\n",
       "      <td>152.67</td>\n",
       "      <td>0</td>\n",
       "      <td>0</td>\n",
       "      <td>Canceled</td>\n",
       "      <td>2016-06-24</td>\n",
       "      <td>0</td>\n",
       "      <td>1</td>\n",
       "    </tr>\n",
       "  </tbody>\n",
       "</table>\n",
       "<p>5880 rows × 34 columns</p>\n",
       "</div>"
      ],
      "text/plain": [
       "              hotel  is_canceled  lead_time  arrival_date_year  \\\n",
       "13988  Resort Hotel            1         11               2016   \n",
       "13989  Resort Hotel            0         11               2016   \n",
       "14125  Resort Hotel            1        249               2016   \n",
       "14181  Resort Hotel            1         21               2016   \n",
       "14182  Resort Hotel            0         80               2017   \n",
       "...             ...          ...        ...                ...   \n",
       "87648    City Hotel            1          5               2016   \n",
       "87649    City Hotel            0         10               2016   \n",
       "89166    City Hotel            1          4               2017   \n",
       "89167    City Hotel            1          8               2017   \n",
       "91692    City Hotel            1         26               2016   \n",
       "\n",
       "      arrival_date_month  arrival_date_week_number  arrival_date_day_of_month  \\\n",
       "13988               July                        28                          4   \n",
       "13989            October                        44                         24   \n",
       "14125           December                        52                         20   \n",
       "14181           December                        53                         30   \n",
       "14182               June                        23                          9   \n",
       "...                  ...                       ...                        ...   \n",
       "87648          September                        38                         12   \n",
       "87649          September                        40                         30   \n",
       "89166               June                        24                         11   \n",
       "89167               June                        24                         17   \n",
       "91692               June                        27                         26   \n",
       "\n",
       "       stays_in_weekend_nights  stays_in_week_nights  adults  children  \\\n",
       "13988                        1                     3       1         0   \n",
       "13989                        1                     3       1         0   \n",
       "14125                        2                     5       2         0   \n",
       "14181                        1                     2       2         0   \n",
       "14182                        2                     2       2         0   \n",
       "...                        ...                   ...     ...       ...   \n",
       "87648                        1                     1       1         0   \n",
       "87649                        2                     2       1         0   \n",
       "89166                        2                     2       1         0   \n",
       "89167                        2                     2       1         0   \n",
       "91692                        2                     1       2         0   \n",
       "\n",
       "       babies meal   country market_segment distribution_channel  \\\n",
       "13988       0   BB  0    PRT      Corporate               Direct   \n",
       "13989       0   BB  0    PRT      Corporate               Direct   \n",
       "14125       0   BB  0    PRT         Direct               Direct   \n",
       "14181       0   BB  0    PRT         Direct               Direct   \n",
       "14182       0   FB       PRT         Direct               Direct   \n",
       "...       ...  ...       ...            ...                  ...   \n",
       "87648       0   BB       ESP       Aviation            Corporate   \n",
       "87649       0   BB       ESP       Aviation            Corporate   \n",
       "89166       0   BB       PRT       Aviation            Corporate   \n",
       "89167       0   BB       PRT       Aviation            Corporate   \n",
       "91692       0   BB       DEU      Online TA                TA/TO   \n",
       "\n",
       "       is_repeated_guest  previous_cancellations  \\\n",
       "13988                  0                       1   \n",
       "13989                  0                       1   \n",
       "14125                  0                       1   \n",
       "14181                  0                       1   \n",
       "14182                  0                       1   \n",
       "...                  ...                     ...   \n",
       "87648                  1                       2   \n",
       "87649                  1                       2   \n",
       "89166                  1                       2   \n",
       "89167                  1                       2   \n",
       "91692                  0                       1   \n",
       "\n",
       "       previous_bookings_not_canceled reserved_room_type assigned_room_type  \\\n",
       "13988                               0                  A                  A   \n",
       "13989                               0                  A                  A   \n",
       "14125                               0                  E                  E   \n",
       "14181                               0                  A                  A   \n",
       "14182                               0                  F                  F   \n",
       "...                               ...                ...                ...   \n",
       "87648                               1                  D                  D   \n",
       "87649                               1                  D                  D   \n",
       "89166                               1                  D                  D   \n",
       "89167                               1                  D                  D   \n",
       "91692                               0                  D                  K   \n",
       "\n",
       "       booking_changes deposit_type  agent  company  days_in_waiting_list  \\\n",
       "13988                0   No Deposit      0       39                     0   \n",
       "13989                0   No Deposit      0       39                     0   \n",
       "14125                1   No Deposit      0        0                     0   \n",
       "14181                0   No Deposit      0        0                     0   \n",
       "14182                1   No Deposit    250        0                     0   \n",
       "...                ...          ...    ...      ...                   ...   \n",
       "87648                0   No Deposit      0      153                     0   \n",
       "87649                0   No Deposit      0      153                     0   \n",
       "89166                0   No Deposit      0      153                     0   \n",
       "89167                0   No Deposit      0      153                     0   \n",
       "91692                0   No Deposit      9        0                     0   \n",
       "\n",
       "      customer_type     adr  required_car_parking_spaces  \\\n",
       "13988     Transient   65.00                            0   \n",
       "13989     Transient   52.00                            0   \n",
       "14125     Transient   42.00                            0   \n",
       "14181     Transient  150.00                            0   \n",
       "14182     Transient  195.00                            0   \n",
       "...             ...     ...                          ...   \n",
       "87648     Transient  110.00                            0   \n",
       "87649     Transient  110.00                            0   \n",
       "89166     Transient  110.00                            0   \n",
       "89167     Transient  110.00                            0   \n",
       "91692     Transient  152.67                            0   \n",
       "\n",
       "       total_of_special_requests reservation_status reservation_status_date  \\\n",
       "13988                          0           Canceled              2016-06-23   \n",
       "13989                          0          Check-Out              2016-10-28   \n",
       "14125                          2           Canceled              2016-12-19   \n",
       "14181                          0           Canceled              2016-12-16   \n",
       "14182                          0          Check-Out              2017-06-13   \n",
       "...                          ...                ...                     ...   \n",
       "87648                          0           Canceled              2016-09-08   \n",
       "87649                          0          Check-Out              2016-10-04   \n",
       "89166                          0           Canceled              2017-06-08   \n",
       "89167                          0           Canceled              2017-06-17   \n",
       "91692                          0           Canceled              2016-06-24   \n",
       "\n",
       "       Room  net_cancelled  \n",
       "13988     1              1  \n",
       "13989     1              1  \n",
       "14125     1              1  \n",
       "14181     1              1  \n",
       "14182     1              1  \n",
       "...     ...            ...  \n",
       "87648     1              1  \n",
       "87649     1              1  \n",
       "89166     1              1  \n",
       "89167     1              1  \n",
       "91692     0              1  \n",
       "\n",
       "[5880 rows x 34 columns]"
      ]
     },
     "execution_count": 41,
     "metadata": {},
     "output_type": "execute_result"
    }
   ],
   "source": [
    "df_subset['net_cancelled'] = 0\n",
    "df_subset.loc[ df_subset['previous_cancellations'] > df_subset['previous_bookings_not_canceled'] , 'net_cancelled'] = 1\n",
    "df_subset.loc[df_subset.net_cancelled==1]"
   ]
  },
  {
   "cell_type": "markdown",
   "id": "02205658",
   "metadata": {},
   "source": [
    "#### removing unnecessary features"
   ]
  },
  {
   "cell_type": "code",
   "execution_count": 42,
   "id": "d4200f62",
   "metadata": {},
   "outputs": [],
   "source": [
    "df_subset = df_subset.drop(['arrival_date_year','arrival_date_week_number','arrival_date_day_of_month',\n",
    "                            'arrival_date_month','assigned_room_type','reserved_room_type','reservation_status_date',\n",
    "                            'previous_cancellations','previous_bookings_not_canceled','reservation_status'],axis=1)"
   ]
  },
  {
   "cell_type": "markdown",
   "id": "03739b5e",
   "metadata": {},
   "source": [
    "#### plotting the heatmap to see the correlation"
   ]
  },
  {
   "cell_type": "code",
   "execution_count": 43,
   "id": "02b8b541",
   "metadata": {},
   "outputs": [
    {
     "data": {
      "image/png": "[encoded data removed]",
      "text/plain": [
       "<Figure size 1584x1080 with 2 Axes>"
      ]
     },
     "metadata": {
      "needs_background": "light"
     },
     "output_type": "display_data"
    }
   ],
   "source": [
    "fig, ax = plt.subplots(figsize=(22,15))\n",
    "sns.heatmap(df_subset.corr(), annot=True, ax=ax);"
   ]
  },
  {
   "cell_type": "markdown",
   "id": "529c4ee8",
   "metadata": {},
   "source": [
    "#### We can see our new features, Room and net_cancelled have a higher correlation with is_cancelled than most of the other columns."
   ]
  },
  {
   "cell_type": "markdown",
   "id": "93d74b95",
   "metadata": {},
   "source": [
    "### Modeling"
   ]
  },
  {
   "cell_type": "markdown",
   "id": "4770cbbc",
   "metadata": {},
   "source": [
    "#### 1. Converting Categorical variables to Numerical"
   ]
  },
  {
   "cell_type": "code",
   "execution_count": 44,
   "id": "799b86d6",
   "metadata": {},
   "outputs": [],
   "source": [
    "from sklearn.preprocessing import LabelEncoder\n",
    "encoder = LabelEncoder()"
   ]
  },
  {
   "cell_type": "code",
   "execution_count": 45,
   "id": "429cdd28",
   "metadata": {},
   "outputs": [],
   "source": [
    "dff=df_subset.drop('is_canceled', axis=1)"
   ]
  },
  {
   "cell_type": "code",
   "execution_count": 46,
   "id": "604b1c84",
   "metadata": {},
   "outputs": [],
   "source": [
    "numerical_features=dff.select_dtypes(include=np.number).columns.tolist()"
   ]
  },
  {
   "cell_type": "code",
   "execution_count": 47,
   "id": "7e27453e",
   "metadata": {},
   "outputs": [],
   "source": [
    "categorical_features = list(dff.columns[dff.dtypes == object])\n",
    "dff[categorical_features]=dff[categorical_features].apply(lambda x: encoder.fit_transform(x))"
   ]
  },
  {
   "cell_type": "markdown",
   "id": "439d840e",
   "metadata": {},
   "source": [
    "#### 2. Train Test Split"
   ]
  },
  {
   "cell_type": "code",
   "execution_count": 48,
   "id": "c68ed019",
   "metadata": {},
   "outputs": [],
   "source": [
    "from sklearn.model_selection import train_test_split"
   ]
  },
  {
   "cell_type": "code",
   "execution_count": 49,
   "id": "6bc1a6e0",
   "metadata": {},
   "outputs": [],
   "source": [
    "X = dff[numerical_features+categorical_features]\n",
    "Y = df_subset['is_canceled']"
   ]
  },
  {
   "cell_type": "code",
   "execution_count": 50,
   "id": "bc1b09f2",
   "metadata": {},
   "outputs": [],
   "source": [
    "x_train, x_test, y_train, y_test = train_test_split(X,Y,random_state=42)"
   ]
  },
  {
   "cell_type": "markdown",
   "id": "1e6f2ea7",
   "metadata": {},
   "source": [
    "#### 3. Machine Learning Model (Decision Tree)"
   ]
  },
  {
   "cell_type": "code",
   "execution_count": 51,
   "id": "9d1f1f54",
   "metadata": {},
   "outputs": [
    {
     "data": {
      "text/plain": [
       "DecisionTreeClassifier(random_state=42)"
      ]
     },
     "execution_count": 51,
     "metadata": {},
     "output_type": "execute_result"
    }
   ],
   "source": [
    "from sklearn.tree import DecisionTreeClassifier\n",
    "clf = DecisionTreeClassifier(random_state=42)\n",
    "clf.fit(x_train,y_train)"
   ]
  },
  {
   "cell_type": "markdown",
   "id": "02987403",
   "metadata": {},
   "source": [
    "#### 4. Evaluation of the Model"
   ]
  },
  {
   "cell_type": "code",
   "execution_count": 52,
   "id": "6bd3b5ba",
   "metadata": {},
   "outputs": [
    {
     "data": {
      "text/plain": [
       "(0.9954925229568155, 0.8542764151259941)"
      ]
     },
     "execution_count": 52,
     "metadata": {},
     "output_type": "execute_result"
    }
   ],
   "source": [
    "train_score = clf.score(x_train,y_train)\n",
    "test_score = clf.score(x_test,y_test)\n",
    "train_score, test_score"
   ]
  },
  {
   "cell_type": "markdown",
   "id": "626d3152",
   "metadata": {},
   "source": [
    "#### Let’s pick any random sample and try to make the prediction and compare it with the actual values"
   ]
  },
  {
   "cell_type": "code",
   "execution_count": 53,
   "id": "80f3c0fd",
   "metadata": {},
   "outputs": [
    {
     "data": {
      "text/plain": [
       "array([1], dtype=int64)"
      ]
     },
     "execution_count": 53,
     "metadata": {},
     "output_type": "execute_result"
    }
   ],
   "source": [
    "## Getting Prediciton of 10th record of x_train\n",
    "prediction = clf.predict(x_train.iloc[10].values.reshape(1,-1))\n",
    "prediction"
   ]
  },
  {
   "cell_type": "code",
   "execution_count": 54,
   "id": "0aeced4e",
   "metadata": {},
   "outputs": [
    {
     "data": {
      "text/plain": [
       "1"
      ]
     },
     "execution_count": 54,
     "metadata": {},
     "output_type": "execute_result"
    }
   ],
   "source": [
    "## Actual Value of 10th record of x_train from y_train\n",
    "actual_value = y_train.iloc[10]\n",
    "actual_value"
   ]
  },
  {
   "cell_type": "code",
   "execution_count": null,
   "id": "630b2664",
   "metadata": {},
   "outputs": [],
   "source": []
  }
 ],
 "metadata": {
  "kernelspec": {
   "display_name": "Python 3 (ipykernel)",
   "language": "python",
   "name": "python3"
  },
  "language_info": {
   "codemirror_mode": {
    "name": "ipython",
    "version": 3
   },
   "file_extension": ".py",
   "mimetype": "text/x-python",
   "name": "python",
   "nbconvert_exporter": "python",
   "pygments_lexer": "ipython3",
   "version": "3.9.7"
  }
 },
 "nbformat": 4,
 "nbformat_minor": 5
}
